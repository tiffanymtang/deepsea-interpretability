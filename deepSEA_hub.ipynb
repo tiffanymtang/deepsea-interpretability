{
 "cells": [
  {
   "cell_type": "markdown",
   "metadata": {
    "colab_type": "text",
    "id": "view-in-github"
   },
   "source": [
    "<a href=\"https://colab.research.google.com/github/tiffanymtang/cs294-final-project/blob/main/deepSEA_starter_code.ipynb\" target=\"_parent\"><img src=\"https://colab.research.google.com/assets/colab-badge.svg\" alt=\"Open In Colab\"/></a>"
   ]
  },
  {
   "cell_type": "markdown",
   "metadata": {
    "id": "rIAP-35xA7fm"
   },
   "source": [
    "### Activate env and import packages"
   ]
  },
  {
   "cell_type": "code",
   "execution_count": null,
   "metadata": {},
   "outputs": [],
   "source": [
    "# Go to  Kernel -> Change Kernel -> Choose kipoi-DeepSEA__predict"
   ]
  },
  {
   "cell_type": "code",
   "execution_count": 1,
   "metadata": {
    "colab": {
     "base_uri": "https://localhost:8080/",
     "height": 272
    },
    "id": "NxXXns2rC0hH",
    "outputId": "cbf56214-e96d-4264-882d-7d53b53b0869"
   },
   "outputs": [],
   "source": [
    "import numpy as np\n",
    "import kipoi"
   ]
  },
  {
   "cell_type": "markdown",
   "metadata": {},
   "source": [
    "### Load model and make a sample prediction"
   ]
  },
  {
   "cell_type": "code",
   "execution_count": null,
   "metadata": {},
   "outputs": [],
   "source": [
    "model = kipoi.get_model('DeepSEA/predict')\n",
    "pred = model.pipeline.predict_example() # make a sample prediction"
   ]
  },
  {
   "cell_type": "code",
   "execution_count": 3,
   "metadata": {},
   "outputs": [
    {
     "name": "stdout",
     "output_type": "stream",
     "text": [
      "Making a sample prediction...\n",
      "[[0.08160981 0.06867644 0.10076747 ... 0.0949342  0.0213389  0.01201444]\n",
      " [0.06698146 0.01062419 0.02694622 ... 0.1549085  0.04822358 0.00770115]\n",
      " [0.04445553 0.00539729 0.01840801 ... 0.14994659 0.35297102 0.02272808]\n",
      " ...\n",
      " [0.0008136  0.00404319 0.00176919 ... 0.02167323 0.11304315 0.02273135]\n",
      " [0.00079005 0.00249488 0.00252156 ... 0.05105033 0.04735982 0.01576872]\n",
      " [0.00076794 0.00237441 0.00250101 ... 0.05096884 0.04723744 0.0151526 ]]\n"
     ]
    }
   ],
   "source": [
    "print('Making a sample prediction...')\n",
    "print(pred)"
   ]
  },
  {
   "cell_type": "code",
   "execution_count": null,
   "metadata": {},
   "outputs": [],
   "source": []
  }
 ],
 "metadata": {
  "colab": {
   "authorship_tag": "ABX9TyOP+f8YLYfaWQS+zLplozhG",
   "collapsed_sections": [
    "8_Ac1C3HAvwi",
    "rIAP-35xA7fm",
    "OWJQItTpG4SH"
   ],
   "include_colab_link": true,
   "name": "deepSEA-starter-code.ipynb",
   "provenance": []
  },
  "kernelspec": {
   "display_name": "kipoi-DeepSEA__predict",
   "language": "python",
   "name": "kipoi-deepsea__predict"
  },
  "language_info": {
   "codemirror_mode": {
    "name": "ipython",
    "version": 3
   },
   "file_extension": ".py",
   "mimetype": "text/x-python",
   "name": "python",
   "nbconvert_exporter": "python",
   "pygments_lexer": "ipython3",
   "version": "3.7.9"
  }
 },
 "nbformat": 4,
 "nbformat_minor": 4
}
