{
 "cells": [
  {
   "cell_type": "markdown",
   "metadata": {},
   "source": [
    "# Data preprocessing\n",
    "This notebook cleans data for TF-MoDISco workflow. Specifically, it \n",
    "- filters out all zero sequences\n",
    "- corrects the one-hot endcoding format from AGCT to ACGT ordering\n",
    "- creates a sample test dataset"
   ]
  },
  {
   "cell_type": "code",
   "execution_count": 1,
   "metadata": {},
   "outputs": [],
   "source": [
    "# Select Environment(conda_kipoi-shared__env__kipoi-py3-keras2)\n",
    "import os\n",
    "import time\n",
    "import h5py\n",
    "import torch\n",
    "import scipy.io\n",
    "import numpy as np\n",
    "import matplotlib.pyplot as plt"
   ]
  },
  {
   "cell_type": "code",
   "execution_count": 2,
   "metadata": {},
   "outputs": [],
   "source": [
    "### set the path\n",
    "data_dir = '../../../data/deepsea_train/'\n",
    "result_dir = '../../../data/deepsea_train/'"
   ]
  },
  {
   "cell_type": "markdown",
   "metadata": {},
   "source": [
    "### Load data"
   ]
  },
  {
   "cell_type": "code",
   "execution_count": 3,
   "metadata": {},
   "outputs": [
    {
     "name": "stdout",
     "output_type": "stream",
     "text": [
      "12 sec elapsed\n"
     ]
    }
   ],
   "source": [
    "# load the test datat mat\n",
    "tic = time.time()\n",
    "test_mat = scipy.io.loadmat(data_dir + 'test.mat')\n",
    "# Y_test = torch.FloatTensor(test_mat['testdata'])\n",
    "X_test = test_mat['testxdata'].astype('float32')\n",
    "toc = time.time()\n",
    "print(round(toc - tic), 'sec elapsed')"
   ]
  },
  {
   "cell_type": "code",
   "execution_count": 4,
   "metadata": {},
   "outputs": [
    {
     "data": {
      "text/plain": [
       "(455024, 4, 1000)"
      ]
     },
     "execution_count": 4,
     "metadata": {},
     "output_type": "execute_result"
    }
   ],
   "source": [
    "X_test.shape"
   ]
  },
  {
   "cell_type": "markdown",
   "metadata": {},
   "source": [
    "### Delete all zero sequences"
   ]
  },
  {
   "cell_type": "code",
   "execution_count": 5,
   "metadata": {},
   "outputs": [
    {
     "name": "stdout",
     "output_type": "stream",
     "text": [
      "0 seqs checked\n",
      "100000 seqs checked\n",
      "200000 seqs checked\n",
      "300000 seqs checked\n",
      "400000 seqs checked\n"
     ]
    }
   ],
   "source": [
    "#delete seqs with all zero encoding\n",
    "idx = []\n",
    "for i in range(X_test.shape[0]):\n",
    "    a = X_test[i]\n",
    "    is_empty = np.sum(np.all(a[..., :] == 0, axis=0))\n",
    "    if is_empty:\n",
    "        idx.append(i)\n",
    "    if i%100000 == 0:\n",
    "        print(i, 'seqs checked')"
   ]
  },
  {
   "cell_type": "code",
   "execution_count": 6,
   "metadata": {},
   "outputs": [],
   "source": [
    "X_test = np.delete(X_test, idx, axis = 0)"
   ]
  },
  {
   "cell_type": "code",
   "execution_count": 7,
   "metadata": {},
   "outputs": [],
   "source": [
    "np.save(result_dir + 'X_test_clean.npy', X_test)"
   ]
  },
  {
   "cell_type": "markdown",
   "metadata": {},
   "source": [
    "### Correct the one-hot encoding format\n",
    "Restart the kernel to do the following to prevent kernel crash"
   ]
  },
  {
   "cell_type": "code",
   "execution_count": 3,
   "metadata": {},
   "outputs": [],
   "source": [
    "with open(result_dir + 'X_test_clean.npy', 'rb') as f:\n",
    "    X_test = np.load(f)"
   ]
  },
  {
   "cell_type": "code",
   "execution_count": 4,
   "metadata": {},
   "outputs": [],
   "source": [
    "# change AGCT to ACGT ordering\n",
    "temp_G = np.copy(X_test[:, 1, :])\n",
    "temp_C = np.copy(X_test[:, 2, :])\n",
    "X_test[:, 1, :] = temp_C\n",
    "X_test[:, 2, :] = temp_G"
   ]
  },
  {
   "cell_type": "code",
   "execution_count": 5,
   "metadata": {},
   "outputs": [
    {
     "data": {
      "text/plain": [
       "(454912, 4, 1, 1000)"
      ]
     },
     "execution_count": 5,
     "metadata": {},
     "output_type": "execute_result"
    }
   ],
   "source": [
    "# reshape for kipoi input \n",
    "X_test = np.expand_dims(X_test, axis=2)\n",
    "X_test.shape"
   ]
  },
  {
   "cell_type": "markdown",
   "metadata": {},
   "source": [
    "### Create a sample test set"
   ]
  },
  {
   "cell_type": "code",
   "execution_count": 6,
   "metadata": {},
   "outputs": [
    {
     "name": "stdout",
     "output_type": "stream",
     "text": [
      "(10000, 4, 1, 1000)\n"
     ]
    }
   ],
   "source": [
    "# take a sample, otherwise will crash the server when computing importance scores\n",
    "np.random.seed(42)\n",
    "sample_idx = np.random.permutation(X_test.shape[0])[:10000]\n",
    "X_test_sample = X_test[sample_idx]\n",
    "print(X_test_sample.shape)"
   ]
  },
  {
   "cell_type": "code",
   "execution_count": 7,
   "metadata": {},
   "outputs": [],
   "source": [
    "# save for future use\n",
    "np.save(result_dir + 'X_test_final.npy', X_test)\n",
    "np.save(result_dir + 'X_test_sample.npy', X_test_sample)"
   ]
  }
 ],
 "metadata": {
  "kernelspec": {
   "display_name": "Environment (conda_kipoi-shared__envs__kipoi-py3-keras2)",
   "language": "python",
   "name": "conda_kipoi-shared__envs__kipoi-py3-keras2"
  },
  "language_info": {
   "codemirror_mode": {
    "name": "ipython",
    "version": 3
   },
   "file_extension": ".py",
   "mimetype": "text/x-python",
   "name": "python",
   "nbconvert_exporter": "python",
   "pygments_lexer": "ipython3",
   "version": "3.6.11"
  }
 },
 "nbformat": 4,
 "nbformat_minor": 4
}
