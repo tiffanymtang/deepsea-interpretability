{
 "cells": [
  {
   "cell_type": "code",
   "execution_count": 1,
   "metadata": {},
   "outputs": [
    {
     "name": "stderr",
     "output_type": "stream",
     "text": [
      "/home/ubuntu/anaconda3/envs/kipoi-shared__envs__kipoi-py3-keras2/lib/python3.6/site-packages/kipoi_veff/external/concise/seqplotting_deps.py:34: FutureWarning: arrays to stack must be passed as a \"sequence\" type such as list or tuple. Support for non-sequence iterables such as generators is deprecated as of NumPy 1.16 and will raise an error in the future.\n",
      "  min_coords = np.vstack(data.min(0) for data in polygons_data).min(0)\n",
      "/home/ubuntu/anaconda3/envs/kipoi-shared__envs__kipoi-py3-keras2/lib/python3.6/site-packages/kipoi_veff/external/concise/seqplotting_deps.py:35: FutureWarning: arrays to stack must be passed as a \"sequence\" type such as list or tuple. Support for non-sequence iterables such as generators is deprecated as of NumPy 1.16 and will raise an error in the future.\n",
      "  max_coords = np.vstack(data.max(0) for data in polygons_data).max(0)\n"
     ]
    }
   ],
   "source": [
    "import os\n",
    "import time\n",
    "import h5py\n",
    "import torch\n",
    "import scipy.io\n",
    "import numpy as np\n",
    "import matplotlib.pyplot as plt\n",
    "\n",
    "#kipoi\n",
    "import kipoi\n",
    "import kipoi_interpret\n",
    "from kipoi_veff.utils.plot import seqlogo_heatmap\n",
    "\n",
    "# Gradient-based methods\n",
    "from kipoi_interpret.importance_scores.gradient import Gradient, GradientXInput\n",
    "\n",
    "# utils\n",
    "from chipseq_utils import *"
   ]
  },
  {
   "cell_type": "code",
   "execution_count": 2,
   "metadata": {
    "scrolled": true
   },
   "outputs": [
    {
     "name": "stdout",
     "output_type": "stream",
     "text": [
      "Using device: cpu\n"
     ]
    }
   ],
   "source": [
    "### checks\n",
    "device = torch.device('cuda' if torch.cuda.is_available() else 'cpu')\n",
    "print('Using device:', device)"
   ]
  },
  {
   "cell_type": "code",
   "execution_count": 29,
   "metadata": {},
   "outputs": [],
   "source": [
    "### set the path\n",
    "# data can be downloaded here: https://github.com/jisraeli/DeepBind\n",
    "tasks = ['ARID3A', 'CTCFL', 'ELK1', 'FOXA1', 'GABPA', 'MYC', 'REST', 'SP1', 'USF1', 'ZBTB7A']\n",
    "data_dir = '../../../data/TF-MoDISco/ARID3A_K562_ARID3A_(sc-8821)_Stanford_AC.seq.gz'\n",
    "#data_dir = '../../../data/TF-MoDISco/CTCFL_K562_CTCFL_(SC-98982)_HudsonAlpha_AC.seq.gz'\n",
    "#data_dir = '../../../data/TF-MoDISco/ELK1_GM12878_ELK1_(1277-1)_Stanford_AC.seq.gz'\n",
    "# data_dir = '../../../data/TF-MoDISco/FOXA1_HepG2_FOXA1_(SC-101058)_HudsonAlpha_AC.seq.gz'\n",
    "# data_dir = '../../../data/TF-MoDISco/GABPA_GM12878_GABP_HudsonAlpha_AC.seq.gz'\n",
    "# data_dir = '../../../data/TF-MoDISco/MYC_H1-hESC_c-Myc_Stanford_AC.seq.gz'\n",
    "# data_dir = '../../../data/TF-MoDISco/REST_GM12878_NRSF_HudsonAlpha_AC.seq.gz'\n",
    "# data_dir = '../../../data/TF-MoDISco/SP1_GM12878_SP1_HudsonAlpha_AC.seq.gz'\n",
    "# data_dir = '../../../data/TF-MoDISco/USF1_HepG2_USF-1_HudsonAlpha_AC.seq.gz'\n",
    "# data_dir = '../../../data/TF-MoDISco/ZBTB7A_HepG2_ZBTB7A_(SC-34508)_HudsonAlpha_AC.seq.gz'\n",
    "result_dir = '../../../out/importance scores/DeepBind/'"
   ]
  },
  {
   "cell_type": "markdown",
   "metadata": {},
   "source": [
    "### Import model"
   ]
  },
  {
   "cell_type": "code",
   "execution_count": 30,
   "metadata": {},
   "outputs": [
    {
     "name": "stdout",
     "output_type": "stream",
     "text": [
      "Using downloaded and verified file: /home/ubuntu/.kipoi/models/DeepBind/downloaded/model_files/Homo_sapiens/TF/D00360.007_ChIP-seq_ELK1/arch/e58e8736e9cf2af6b28c2dce3c90188f\n",
      "Using downloaded and verified file: /home/ubuntu/.kipoi/models/DeepBind/downloaded/model_files/Homo_sapiens/TF/D00360.007_ChIP-seq_ELK1/weights/75128f40050796bd05bc254635c48593\n"
     ]
    }
   ],
   "source": [
    "deep_bind = kipoi.get_model(\"DeepBind/Homo_sapiens/TF/D00736.002_ChIP-seq_ARID3A\")\n",
    "# deep_bind = kipoi.get_model(\"DeepBind/Homo_sapiens/TF/D00753.001_ChIP-seq_CTCFL\")\n",
    "# deep_bind = kipoi.get_model(\"DeepBind/Homo_sapiens/TF/D00360.007_ChIP-seq_ELK1\")\n",
    "# deep_bind = kipoi.get_model(\"DeepBind/Homo_sapiens/TF/D00761.001_ChIP-seq_FOXA1\")\n",
    "# deep_bind = kipoi.get_model(\"DeepBind/Homo_sapiens/TF/D00409.004_ChIP-seq_GABPA\")\n",
    "# deep_bind = kipoi.get_model(\"DeepBind/Homo_sapiens/TF/D00785.001_ChIP-seq_MYC\")\n",
    "# deep_bind = kipoi.get_model(\"DeepBind/Homo_sapiens/TF/D00799.001_ChIP-seq_REST\")\n",
    "# deep_bind = kipoi.get_model(\"DeepBind/Homo_sapiens/TF/D00650.007_ChIP-seq_SP1\")\n",
    "# deep_bind = kipoi.get_model(\"DeepBind/Homo_sapiens/TF/D00700.006_ChIP-seq_USF1\")\n",
    "# deep_bind = kipoi.get_model(\"DeepBind/Homo_sapiens/TF/D00714.004_ChIP-seq_ZBTB7A\")"
   ]
  },
  {
   "cell_type": "markdown",
   "metadata": {},
   "source": [
    "### Load and process data"
   ]
  },
  {
   "cell_type": "code",
   "execution_count": 6,
   "metadata": {},
   "outputs": [
    {
     "name": "stdout",
     "output_type": "stream",
     "text": [
      "../data/TF-MoDISco/ARID3A_K562_ARID3A_(sc-8821)_Stanford_AC.seq.gz\n"
     ]
    }
   ],
   "source": [
    "chipseq = Chip(data_dir)\n",
    "train1, valid1, train2, valid2, train3, valid3, alldataset=chipseq.openFile()"
   ]
  },
  {
   "cell_type": "code",
   "execution_count": 28,
   "metadata": {},
   "outputs": [
    {
     "name": "stdout",
     "output_type": "stream",
     "text": [
      "34104\n",
      "(34104, 101, 4)\n"
     ]
    }
   ],
   "source": [
    "print(len(alldataset))#[0][0].shape\n",
    "x_data = np.asarray([el[0] for el in alldataset],dtype=np.float32).transpose((0,2,1))\n",
    "#y_data = np.asarray([el[1] for el in alldataset],dtype=np.float32)\n",
    "print(x_data.shape)\n",
    "\n",
    "np.save(result_dir + 'ARID3A_onehot.npy', x_data)"
   ]
  },
  {
   "cell_type": "markdown",
   "metadata": {},
   "source": [
    "### Compute importance scores"
   ]
  },
  {
   "cell_type": "code",
   "execution_count": 8,
   "metadata": {},
   "outputs": [],
   "source": [
    "grxinp = GradientXInput(deep_bind)\n",
    "grxinp_scores = grxinp.score(x_data)"
   ]
  },
  {
   "cell_type": "code",
   "execution_count": 9,
   "metadata": {},
   "outputs": [
    {
     "name": "stdout",
     "output_type": "stream",
     "text": [
      "(34104, 101, 4) (34104, 101, 4)\n"
     ]
    }
   ],
   "source": [
    "print(x_data.shape, grxinp_scores.shape)"
   ]
  },
  {
   "cell_type": "code",
   "execution_count": 10,
   "metadata": {},
   "outputs": [],
   "source": [
    "np.save(result_dir + 'ARID3A_scores.npy', grxinp_scores)"
   ]
  },
  {
   "cell_type": "markdown",
   "metadata": {},
   "source": [
    "### Compute hypothetical scores"
   ]
  },
  {
   "cell_type": "code",
   "execution_count": 11,
   "metadata": {},
   "outputs": [],
   "source": [
    "gr = Gradient(deep_bind)\n",
    "gr_scores = gr.score(x_data)"
   ]
  },
  {
   "cell_type": "code",
   "execution_count": 26,
   "metadata": {},
   "outputs": [],
   "source": [
    "means = np.mean(gr_scores, axis=2, keepdims=True)\n",
    "normalized = gr_scores - means"
   ]
  },
  {
   "cell_type": "code",
   "execution_count": 27,
   "metadata": {},
   "outputs": [],
   "source": [
    "np.save(result_dir + 'ARID3A_hyp_scores.npy', normalized)"
   ]
  }
 ],
 "metadata": {
  "kernelspec": {
   "display_name": "Environment (conda_kipoi-shared__envs__kipoi-py3-keras2)",
   "language": "python",
   "name": "conda_kipoi-shared__envs__kipoi-py3-keras2"
  },
  "language_info": {
   "codemirror_mode": {
    "name": "ipython",
    "version": 3
   },
   "file_extension": ".py",
   "mimetype": "text/x-python",
   "name": "python",
   "nbconvert_exporter": "python",
   "pygments_lexer": "ipython3",
   "version": "3.6.11"
  }
 },
 "nbformat": 4,
 "nbformat_minor": 4
}
