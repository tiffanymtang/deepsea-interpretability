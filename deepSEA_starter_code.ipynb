{
  "nbformat": 4,
  "nbformat_minor": 0,
  "metadata": {
    "colab": {
      "name": "deepSEA-starter-code.ipynb",
      "provenance": [],
      "collapsed_sections": [
        "8_Ac1C3HAvwi",
        "rIAP-35xA7fm",
        "OWJQItTpG4SH"
      ],
      "authorship_tag": "ABX9TyOP+f8YLYfaWQS+zLplozhG",
      "include_colab_link": true
    },
    "kernelspec": {
      "name": "python3",
      "display_name": "Python 3"
    }
  },
  "cells": [
    {
      "cell_type": "markdown",
      "metadata": {
        "id": "view-in-github",
        "colab_type": "text"
      },
      "source": [
        "<a href=\"https://colab.research.google.com/github/tiffanymtang/cs294-final-project/blob/main/deepSEA_starter_code.ipynb\" target=\"_parent\"><img src=\"https://colab.research.google.com/assets/colab-badge.svg\" alt=\"Open In Colab\"/></a>"
      ]
    },
    {
      "cell_type": "markdown",
      "metadata": {
        "id": "1St4tC7X-6qr"
      },
      "source": [
        "### Setting up Conda Environment"
      ]
    },
    {
      "cell_type": "code",
      "metadata": {
        "id": "OkjOhoIq_DFo",
        "outputId": "5bff7bc6-9e28-497b-9dd4-8778882e31ae",
        "colab": {
          "base_uri": "https://localhost:8080/",
          "height": 68
        }
      },
      "source": [
        "!which python # check which python colab is using; should return /usr/local/bin/python\n",
        "!python --version # your specific python version; > 3.0 required, need to install conda that is compatiable with this python version\n",
        "!echo $PYTHONPATH"
      ],
      "execution_count": null,
      "outputs": [
        {
          "output_type": "stream",
          "text": [
            "/usr/local/bin/python\n",
            "Python 3.6.12 :: Anaconda, Inc.\n",
            "\n"
          ],
          "name": "stdout"
        }
      ]
    },
    {
      "cell_type": "code",
      "metadata": {
        "id": "kSZC7kNO_4BW",
        "outputId": "4f61bc67-19b7-44d2-ffb6-5e4629614f5d",
        "colab": {
          "base_uri": "https://localhost:8080/",
          "height": 34
        }
      },
      "source": [
        "# Clear PYTHONPATH\n",
        "%env PYTHONPATH="
      ],
      "execution_count": null,
      "outputs": [
        {
          "output_type": "stream",
          "text": [
            "env: PYTHONPATH=\n"
          ],
          "name": "stdout"
        }
      ]
    },
    {
      "cell_type": "code",
      "metadata": {
        "id": "qlz4QfYqAMH9",
        "outputId": "ad979099-1640-4bc5-e441-5dc0a4334f69",
        "colab": {
          "base_uri": "https://localhost:8080/",
          "height": 34
        }
      },
      "source": [
        "# install miniconda\n",
        "%%bash\n",
        "MINICONDA_INSTALLER_SCRIPT=Miniconda3-4.5.4-Linux-x86_64.sh\n",
        "MINICONDA_PREFIX=/usr/local\n",
        "wget https://repo.continuum.io/miniconda/$MINICONDA_INSTALLER_SCRIPT\n",
        "chmod +x $MINICONDA_INSTALLER_SCRIPT\n",
        "./$MINICONDA_INSTALLER_SCRIPT -b -f -p $MINICONDA_PREFIX"
      ],
      "execution_count": null,
      "outputs": [
        {
          "output_type": "stream",
          "text": [
            "Process is interrupted.\n"
          ],
          "name": "stdout"
        }
      ]
    },
    {
      "cell_type": "code",
      "metadata": {
        "id": "xF1R1J8JAPUM",
        "outputId": "6148c44a-65cc-4eb9-8d2d-be5537face84",
        "colab": {
          "base_uri": "https://localhost:8080/",
          "height": 51
        }
      },
      "source": [
        "# check conda is correctly installed\n",
        "!which conda # should return /usr/local/bin/conda\n",
        "!conda --version # should return 4.5.4"
      ],
      "execution_count": null,
      "outputs": [
        {
          "output_type": "stream",
          "text": [
            "/usr/local/bin/conda\n",
            "conda 4.8.5\n"
          ],
          "name": "stdout"
        }
      ]
    },
    {
      "cell_type": "code",
      "metadata": {
        "id": "acxd3LqN_Jml",
        "outputId": "145e0206-72e3-4d9c-b4ed-4acb800d104c",
        "colab": {
          "base_uri": "https://localhost:8080/",
          "height": 34
        }
      },
      "source": [
        "# update dependencies while fix python to 3.6\n",
        "%%bash\n",
        "conda install --channel defaults conda python=3.6 --yes\n",
        "conda update --channel defaults --all --yes"
      ],
      "execution_count": null,
      "outputs": [
        {
          "output_type": "stream",
          "text": [
            "Process is interrupted.\n"
          ],
          "name": "stdout"
        }
      ]
    },
    {
      "cell_type": "code",
      "metadata": {
        "id": "MVoaUHB0AnsU"
      },
      "source": [
        "# now add conda to sys path\n",
        "import sys\n",
        "_ = (sys.path.append(\"/usr/local/lib/python3.6/site-packages\"))"
      ],
      "execution_count": null,
      "outputs": []
    },
    {
      "cell_type": "markdown",
      "metadata": {
        "id": "8_Ac1C3HAvwi"
      },
      "source": [
        "### Install model zoo: Kipoi"
      ]
    },
    {
      "cell_type": "code",
      "metadata": {
        "id": "HRrOLyYDhGm8",
        "outputId": "bf94c332-706c-4f77-86cb-8dc0113ce903",
        "colab": {
          "base_uri": "https://localhost:8080/",
          "height": 1000
        }
      },
      "source": [
        "!pip install kipoi"
      ],
      "execution_count": null,
      "outputs": [
        {
          "output_type": "stream",
          "text": [
            "Collecting kipoi\n",
            "  Downloading kipoi-0.6.29-py3-none-any.whl (101 kB)\n",
            "\u001b[K     |████████████████████████████████| 101 kB 2.3 MB/s \n",
            "\u001b[?25hCollecting kipoi-conda>=0.1.6\n",
            "  Downloading kipoi_conda-0.2.2-py3-none-any.whl (8.6 kB)\n",
            "Collecting pandas>=0.21.0\n",
            "  Downloading pandas-1.1.3-cp36-cp36m-manylinux1_x86_64.whl (9.5 MB)\n",
            "\u001b[K     |████████████████████████████████| 9.5 MB 8.8 MB/s \n",
            "\u001b[?25hCollecting jinja2\n",
            "  Downloading Jinja2-2.11.2-py2.py3-none-any.whl (125 kB)\n",
            "\u001b[K     |████████████████████████████████| 125 kB 51.3 MB/s \n",
            "\u001b[?25hRequirement already satisfied: tqdm in /usr/local/lib/python3.6/site-packages (from kipoi) (4.50.2)\n",
            "Collecting kipoi-utils>=0.3.8\n",
            "  Downloading kipoi_utils-0.3.8.tar.gz (19 kB)\n",
            "Requirement already satisfied: urllib3>=1.21.1 in /usr/local/lib/python3.6/site-packages (from kipoi) (1.25.10)\n",
            "Collecting future\n",
            "  Downloading future-0.18.2.tar.gz (829 kB)\n",
            "\u001b[K     |████████████████████████████████| 829 kB 55.6 MB/s \n",
            "\u001b[?25hCollecting pyyaml\n",
            "  Downloading PyYAML-5.3.1.tar.gz (269 kB)\n",
            "\u001b[K     |████████████████████████████████| 269 kB 50.4 MB/s \n",
            "\u001b[?25hCollecting h5py\n",
            "  Downloading h5py-2.10.0-cp36-cp36m-manylinux1_x86_64.whl (2.9 MB)\n",
            "\u001b[K     |████████████████████████████████| 2.9 MB 50.0 MB/s \n",
            "\u001b[?25hCollecting numpy\n",
            "  Downloading numpy-1.19.2-cp36-cp36m-manylinux2010_x86_64.whl (14.5 MB)\n",
            "\u001b[K     |████████████████████████████████| 14.5 MB 38 kB/s \n",
            "\u001b[?25hCollecting attrs>=17.4.0\n",
            "  Downloading attrs-20.2.0-py2.py3-none-any.whl (48 kB)\n",
            "\u001b[K     |████████████████████████████████| 48 kB 4.3 MB/s \n",
            "\u001b[?25hCollecting tinydb\n",
            "  Downloading tinydb-4.2.0-py3-none-any.whl (21 kB)\n",
            "Collecting deprecation>=2.0.6\n",
            "  Downloading deprecation-2.1.0-py2.py3-none-any.whl (11 kB)\n",
            "Collecting colorlog\n",
            "  Downloading colorlog-4.4.0-py2.py3-none-any.whl (14 kB)\n",
            "Collecting cookiecutter>=1.6.0\n",
            "  Downloading cookiecutter-1.7.2-py2.py3-none-any.whl (34 kB)\n",
            "Collecting related>=0.6.0\n",
            "  Downloading related-0.7.2-py2.py3-none-any.whl (15 kB)\n",
            "Requirement already satisfied: six in /usr/local/lib/python3.6/site-packages (from kipoi-conda>=0.1.6->kipoi) (1.15.0)\n",
            "Collecting pytz>=2017.2\n",
            "  Downloading pytz-2020.1-py2.py3-none-any.whl (510 kB)\n",
            "\u001b[K     |████████████████████████████████| 510 kB 55.0 MB/s \n",
            "\u001b[?25hCollecting python-dateutil>=2.7.3\n",
            "  Downloading python_dateutil-2.8.1-py2.py3-none-any.whl (227 kB)\n",
            "\u001b[K     |████████████████████████████████| 227 kB 60.9 MB/s \n",
            "\u001b[?25hCollecting MarkupSafe>=0.23\n",
            "  Downloading MarkupSafe-1.1.1-cp36-cp36m-manylinux1_x86_64.whl (27 kB)\n",
            "Collecting packaging\n",
            "  Downloading packaging-20.4-py2.py3-none-any.whl (37 kB)\n",
            "Collecting binaryornot>=0.4.4\n",
            "  Downloading binaryornot-0.4.4-py2.py3-none-any.whl (9.0 kB)\n",
            "Collecting jinja2-time>=0.2.0\n",
            "  Downloading jinja2_time-0.2.0-py2.py3-none-any.whl (6.4 kB)\n",
            "Collecting python-slugify>=4.0.0\n",
            "  Downloading python-slugify-4.0.1.tar.gz (11 kB)\n",
            "Requirement already satisfied: requests>=2.23.0 in /usr/local/lib/python3.6/site-packages (from cookiecutter>=1.6.0->kipoi) (2.24.0)\n",
            "Collecting click>=7.0\n",
            "  Downloading click-7.1.2-py2.py3-none-any.whl (82 kB)\n",
            "\u001b[K     |████████████████████████████████| 82 kB 1.0 MB/s \n",
            "\u001b[?25hCollecting poyo>=0.5.0\n",
            "  Downloading poyo-0.5.0-py2.py3-none-any.whl (10 kB)\n",
            "Collecting pyparsing>=2.0.2\n",
            "  Downloading pyparsing-2.4.7-py2.py3-none-any.whl (67 kB)\n",
            "\u001b[K     |████████████████████████████████| 67 kB 4.9 MB/s \n",
            "\u001b[?25hRequirement already satisfied: chardet>=3.0.2 in /usr/local/lib/python3.6/site-packages (from binaryornot>=0.4.4->cookiecutter>=1.6.0->kipoi) (3.0.4)\n",
            "Collecting arrow\n",
            "  Downloading arrow-0.17.0-py2.py3-none-any.whl (50 kB)\n",
            "\u001b[K     |████████████████████████████████| 50 kB 5.7 MB/s \n",
            "\u001b[?25hCollecting text-unidecode>=1.3\n",
            "  Downloading text_unidecode-1.3-py2.py3-none-any.whl (78 kB)\n",
            "\u001b[K     |████████████████████████████████| 78 kB 5.6 MB/s \n",
            "\u001b[?25hRequirement already satisfied: certifi>=2017.4.17 in /usr/local/lib/python3.6/site-packages (from requests>=2.23.0->cookiecutter>=1.6.0->kipoi) (2020.6.20)\n",
            "Requirement already satisfied: idna<3,>=2.5 in /usr/local/lib/python3.6/site-packages (from requests>=2.23.0->cookiecutter>=1.6.0->kipoi) (2.10)\n",
            "Building wheels for collected packages: kipoi-utils, future, pyyaml, python-slugify\n",
            "  Building wheel for kipoi-utils (setup.py) ... \u001b[?25l\u001b[?25hdone\n",
            "  Created wheel for kipoi-utils: filename=kipoi_utils-0.3.8-py3-none-any.whl size=24805 sha256=aee421626a2cefaa93a4d9ebd24e4748826fdc273fc6483431c50117e6ae5bae\n",
            "  Stored in directory: /root/.cache/pip/wheels/0e/1e/d9/9038e550f77d344041206a24d4cb810e80853120d7ebabcbb8\n",
            "  Building wheel for future (setup.py) ... \u001b[?25l\u001b[?25hdone\n",
            "  Created wheel for future: filename=future-0.18.2-py3-none-any.whl size=491059 sha256=032ee464be08c9c9353a65f05dd5e1cfc64dd4bd337423cdd6f46cc78097abf8\n",
            "  Stored in directory: /root/.cache/pip/wheels/6e/9c/ed/4499c9865ac1002697793e0ae05ba6be33553d098f3347fb94\n",
            "  Building wheel for pyyaml (setup.py) ... \u001b[?25l\u001b[?25hdone\n",
            "  Created wheel for pyyaml: filename=PyYAML-5.3.1-cp36-cp36m-linux_x86_64.whl size=402159 sha256=1859689a03709d1d9556a0b724c6cfda9c9897334a88d34f6172664c44dc2fae\n",
            "  Stored in directory: /root/.cache/pip/wheels/e5/9d/ad/2ee53cf262cba1ffd8afe1487eef788ea3f260b7e6232a80fc\n",
            "  Building wheel for python-slugify (setup.py) ... \u001b[?25l\u001b[?25hdone\n",
            "  Created wheel for python-slugify: filename=python_slugify-4.0.1-py2.py3-none-any.whl size=6769 sha256=534a57fd377e442b804361ca3ffab7aa75393aff2692cf0126be76a8b4209eee\n",
            "  Stored in directory: /root/.cache/pip/wheels/72/e6/db/122611605e60148f54ee2abaca98b2bbeafc6e22486a867bad\n",
            "Successfully built kipoi-utils future pyyaml python-slugify\n",
            "Installing collected packages: pytz, numpy, python-dateutil, pandas, attrs, future, pyyaml, related, kipoi-utils, kipoi-conda, MarkupSafe, jinja2, h5py, tinydb, pyparsing, packaging, deprecation, colorlog, binaryornot, arrow, jinja2-time, text-unidecode, python-slugify, click, poyo, cookiecutter, kipoi\n",
            "Successfully installed MarkupSafe-1.1.1 arrow-0.17.0 attrs-20.2.0 binaryornot-0.4.4 click-7.1.2 colorlog-4.4.0 cookiecutter-1.7.2 deprecation-2.1.0 future-0.18.2 h5py-2.10.0 jinja2-2.11.2 jinja2-time-0.2.0 kipoi-0.6.29 kipoi-conda-0.2.2 kipoi-utils-0.3.8 numpy-1.19.2 packaging-20.4 pandas-1.1.3 poyo-0.5.0 pyparsing-2.4.7 python-dateutil-2.8.1 python-slugify-4.0.1 pytz-2020.1 pyyaml-5.3.1 related-0.7.2 text-unidecode-1.3 tinydb-4.2.0\n"
          ],
          "name": "stdout"
        },
        {
          "output_type": "display_data",
          "data": {
            "application/vnd.colab-display-data+json": {
              "pip_warning": {
                "packages": [
                  "dateutil",
                  "pyparsing"
                ]
              }
            }
          },
          "metadata": {
            "tags": []
          }
        }
      ]
    },
    {
      "cell_type": "markdown",
      "metadata": {
        "id": "rIAP-35xA7fm"
      },
      "source": [
        "### Import model & dependencies using Conda"
      ]
    },
    {
      "cell_type": "code",
      "metadata": {
        "id": "42MIItIwC9RO",
        "outputId": "0f1b34dc-d4ec-40b0-e318-2fc59c3ad8c9",
        "colab": {
          "base_uri": "https://localhost:8080/",
          "height": 238
        }
      },
      "source": [
        "!kipoi env create DeepSEA/predict"
      ],
      "execution_count": null,
      "outputs": [
        {
          "output_type": "stream",
          "text": [
            "\u001b[32mINFO\u001b[0m \u001b[44m[kipoi.cli.env]\u001b[0m Writing environment file: /tmp/kipoi/envfiles/77919ba5\u001b[0m\n",
            "\u001b[32mINFO\u001b[0m \u001b[44m[kipoi.cli.env]\u001b[0m Loading model: DeepSEA/predict description\u001b[0m\n",
            "\u001b[32mINFO\u001b[0m \u001b[44m[kipoi.sources]\u001b[0m Update /root/.kipoi/models/\u001b[0m\n",
            "Already up to date.\n",
            "\u001b[32mINFO\u001b[0m \u001b[44m[kipoi.cli.env]\u001b[0m kipoiseq not installed. Using default kipoiseq dependencies for the dataloader: kipoiseq.dataloaders.SeqIntervalDl\u001b[0m\n",
            "\u001b[32mINFO\u001b[0m \u001b[44m[kipoi.cli.env]\u001b[0m Environment name: kipoi-DeepSEA__predict\u001b[0m\n",
            "\u001b[32mINFO\u001b[0m \u001b[44m[kipoi.cli.env]\u001b[0m Output env file: /tmp/kipoi/envfiles/77919ba5/kipoi-DeepSEA__predict.yaml\u001b[0m\n",
            "\u001b[32mINFO\u001b[0m \u001b[44m[kipoi.cli.env]\u001b[0m Done writing the environment file!\u001b[0m\n",
            "\u001b[32mINFO\u001b[0m \u001b[44m[kipoi.cli.env]\u001b[0m Creating conda env from file: /tmp/kipoi/envfiles/77919ba5/kipoi-DeepSEA__predict.yaml\u001b[0m\n",
            "\u001b[32mINFO\u001b[0m \u001b[44m[kipoi.cli.env]\u001b[0m Done!\u001b[0m\n",
            "\n",
            "Activate the environment via:\n",
            "conda activate kipoi-DeepSEA__predict\n"
          ],
          "name": "stdout"
        }
      ]
    },
    {
      "cell_type": "code",
      "metadata": {
        "id": "NxXXns2rC0hH",
        "outputId": "cbf56214-e96d-4264-882d-7d53b53b0869",
        "colab": {
          "base_uri": "https://localhost:8080/",
          "height": 272
        }
      },
      "source": [
        "%%bash\n",
        "source activate kipoi-DeepSEA__predict\n",
        "conda env list\n",
        "\n",
        "python\n",
        "import kipoi\n",
        "model = kipoi.get_model('DeepSEA/predict')\n",
        "pred = model.pipeline.predict_example() # make a sample prediction\n",
        "print(pred)"
      ],
      "execution_count": null,
      "outputs": [
        {
          "output_type": "stream",
          "text": [
            "# conda environments:\n",
            "#\n",
            "base                     /usr/local\n",
            "kipoi-DeepSEA__predict  *  /usr/local/envs/kipoi-DeepSEA__predict\n",
            "\n",
            "Already up to date.\n",
            "Using downloaded and verified file: /root/.kipoi/models/DeepSEA/predict/downloaded/model_files/weights/89e640bf6bdbe1ff165f484d9796efc7\n",
            "[[0.08160983 0.06867647 0.1007675  ... 0.09493414 0.0213389  0.01201444]\n",
            " [0.06698149 0.01062419 0.02694624 ... 0.15490854 0.04822358 0.00770115]\n",
            " [0.04445553 0.0053973  0.01840801 ... 0.14994654 0.35297096 0.02272807]\n",
            " ...\n",
            " [0.0008136  0.00404319 0.00176919 ... 0.02167323 0.1130432  0.02273136]\n",
            " [0.00079005 0.00249488 0.00252156 ... 0.05105033 0.04735983 0.01576873]\n",
            " [0.00076794 0.00237441 0.00250101 ... 0.05096886 0.04723743 0.01515261]]\n"
          ],
          "name": "stdout"
        },
        {
          "output_type": "stream",
          "text": [
            "\r  0%|          | 0/1 [00:00<?, ?it/s]\r100%|██████████| 1/1 [00:04<00:00,  4.27s/it]\r100%|██████████| 1/1 [00:04<00:00,  4.27s/it]\n"
          ],
          "name": "stderr"
        }
      ]
    },
    {
      "cell_type": "markdown",
      "metadata": {
        "id": "OWJQItTpG4SH"
      },
      "source": [
        "### Issues\n",
        "Kipoi requres Conda to manage model and dependencies, but Colab doesn't work very well with Conda. `souce activate env` would activate an environment for a specific model, but it's only valid for that specific code block. That means all codes must be put into a code block. It's not ideal for future work."
      ]
    }
  ]
}